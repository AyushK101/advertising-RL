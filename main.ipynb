{
 "cells": [
  {
   "cell_type": "code",
   "execution_count": null,
   "id": "96dede30",
   "metadata": {},
   "outputs": [],
   "source": [
    "import pandas as pd\n",
    "import matplotlib.pyplot as plt\n",
    "from utils import DataIngest\n",
    "from utils import DataProcessing\n",
    "\n",
    "if __name__ == \"__main__\":\n",
    "    data_ingest = DataIngest(\"./data/Advertising.csv\")\n",
    "\n",
    "    X, y, df = data_ingest.get_X_y()\n",
    "    df.to_csv(\"./data/simple_df.csv\",index=False)\n",
    "    # print(X, y, df)"
   ]
  },
  {
   "cell_type": "code",
   "execution_count": null,
   "id": "74839660",
   "metadata": {},
   "outputs": [
    {
     "name": "stdout",
     "output_type": "stream",
     "text": [
      "Figure(640x480) Axes(0.125,0.11;0.775x0.77)\n",
      "        TV  Sales\n",
      "0    230.1   22.1\n",
      "1     44.5   10.4\n",
      "2     17.2    9.3\n",
      "3    151.5   18.5\n",
      "4    180.8   12.9\n",
      "..     ...    ...\n",
      "195   38.2    7.6\n",
      "196   94.2    9.7\n",
      "197  177.0   12.8\n",
      "198  283.6   25.5\n",
      "199  232.1   13.4\n",
      "\n",
      "[200 rows x 2 columns]\n"
     ]
    },
    {
     "data": {
      "image/png": "[encoded data removed]",
      "text/plain": [
       "<Figure size 640x480 with 1 Axes>"
      ]
     },
     "metadata": {},
     "output_type": "display_data"
    },
    {
     "data": {
      "text/plain": [
       "<Figure size 640x480 with 0 Axes>"
      ]
     },
     "metadata": {},
     "output_type": "display_data"
    }
   ],
   "source": [
    "data_process = DataProcessing(df)\n",
    "data_process.identify_outliers(df)"
   ]
  },
  {
   "cell_type": "code",
   "execution_count": null,
   "id": "2a5bbf26",
   "metadata": {},
   "outputs": [
    {
     "name": "stdout",
     "output_type": "stream",
     "text": [
      "Series([], Name: TV, dtype: float64)\n"
     ]
    }
   ],
   "source": [
    "tv_outliers = data_process.identify_outliers_zscore(df['TV'])\n",
    "print(tv_outliers)"
   ]
  },
  {
   "cell_type": "code",
   "execution_count": null,
   "id": "512a5455",
   "metadata": {},
   "outputs": [
    {
     "name": "stdout",
     "output_type": "stream",
     "text": [
      "                            OLS Regression Results                            \n",
      "==============================================================================\n",
      "Dep. Variable:                  Sales   R-squared:                       0.612\n",
      "Model:                            OLS   Adj. R-squared:                  0.610\n",
      "Method:                 Least Squares   F-statistic:                     312.1\n",
      "Date:                Sat, 28 Jun 2025   Prob (F-statistic):           1.47e-42\n",
      "Time:                        13:32:36   Log-Likelihood:                -519.05\n",
      "No. Observations:                 200   AIC:                             1042.\n",
      "Df Residuals:                     198   BIC:                             1049.\n",
      "Df Model:                           1                                         \n",
      "Covariance Type:            nonrobust                                         \n",
      "==============================================================================\n",
      "                 coef    std err          t      P>|t|      [0.025      0.975]\n",
      "------------------------------------------------------------------------------\n",
      "const          7.0326      0.458     15.360      0.000       6.130       7.935\n",
      "TV             0.0475      0.003     17.668      0.000       0.042       0.053\n",
      "==============================================================================\n",
      "Omnibus:                        0.531   Durbin-Watson:                   1.935\n",
      "Prob(Omnibus):                  0.767   Jarque-Bera (JB):                0.669\n",
      "Skew:                          -0.089   Prob(JB):                        0.716\n",
      "Kurtosis:                       2.779   Cond. No.                         338.\n",
      "==============================================================================\n",
      "\n",
      "Notes:\n",
      "[1] Standard Errors assume that the covariance matrix of the errors is correctly specified.\n"
     ]
    }
   ],
   "source": [
    "from utils import SimpleLinearRegression\n",
    "simple_model = SimpleLinearRegression(X, y)\n",
    "model = simple_model.summary()\n",
    "model.save(\"./models/first.txt\")\n",
    "\n",
    "\n",
    "# https://www.geeksforgeeks.org/machine-learning/interpreting-the-results-of-linear-regression-using-ols-summary/\n"
   ]
  },
  {
   "cell_type": "code",
   "execution_count": null,
   "id": "49e8d663",
   "metadata": {},
   "outputs": [
    {
     "name": "stdout",
     "output_type": "stream",
     "text": [
      "after load\n",
      "0    18.156167\n",
      "dtype: float64\n"
     ]
    }
   ],
   "source": [
    "# Predict\n",
    "new_X_predict = pd.DataFrame({\n",
    "    \"const\": [1],\n",
    "    \"TV\": [234]\n",
    "})\n",
    "import statsmodels.api as sm\n",
    "trained_model = sm.load(\"./models/first.txt\")\n",
    "prediction = trained_model.predict(new_X_predict)\n",
    "print(\"after load\")\n",
    "print( prediction)"
   ]
  },
  {
   "cell_type": "markdown",
   "id": "ae6cb9fe",
   "metadata": {},
   "source": [
    "##### before load -> \n",
    "0    18.156167\n",
    "dtype: float64"
   ]
  },
  {
   "cell_type": "markdown",
   "id": "867a3148",
   "metadata": {},
   "source": [
    "# Assumptions\n"
   ]
  },
  {
   "cell_type": "code",
   "execution_count": null,
   "id": "e08d718c",
   "metadata": {},
   "outputs": [],
   "source": []
  }
 ],
 "metadata": {
  "kernelspec": {
   "display_name": ".venv",
   "language": "python",
   "name": "python3"
  },
  "language_info": {
   "codemirror_mode": {
    "name": "ipython",
    "version": 3
   },
   "file_extension": ".py",
   "mimetype": "text/x-python",
   "name": "python",
   "nbconvert_exporter": "python",
   "pygments_lexer": "ipython3",
   "version": "3.12.3"
  }
 },
 "nbformat": 4,
 "nbformat_minor": 5
}
